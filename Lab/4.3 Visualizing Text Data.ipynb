{
 "cells": [
  {
   "cell_type": "markdown",
   "id": "7790bbd4-0d2e-4350-876f-eff8271cea4e",
   "metadata": {},
   "source": [
    "# Lab Instructions\n",
    "\n",
    "Create 3 visualizations from text data of your choice.  Each visualization should have at least 1 - 2 sentences explaining both the figure and the interpretation.\n",
    "You may use any LLM and produce whatever visuals you think best illustrate your data.  "
   ]
  },
  {
   "cell_type": "markdown",
   "id": "85b04571-9074-47c7-9b06-f5364d47ffeb",
   "metadata": {},
   "source": [
    "----------------------------------------------------------------------------------------------------------------------------------------------"
   ]
  },
  {
   "cell_type": "markdown",
   "id": "b069a3fe-3aa5-48ac-be7d-9d244f0a58cb",
   "metadata": {},
   "source": [
    "**Dataset Description**\n",
    "\n",
    "This dataset was created by scraping technology news headlines from the BBC Technology section on October 26, 2025.\n",
    "Each record includes the source name, headline text, and date scraped.\n",
    "The goal was to analyze current themes in technology reporting by identifying common keywords, trending topics, and headline volume.\n",
    "Although the scraper was designed to include both BBC and Reuters, only BBC headlines were successfully collected during this run, likely due to Reuters’ site layout or scraping protection.\n",
    "This limitation was noted and considered in the analysis."
   ]
  },
  {
   "cell_type": "code",
   "execution_count": 6,
   "id": "47cbdedf-a07e-4490-8635-32d1a281d22e",
   "metadata": {},
   "outputs": [
    {
     "name": "stdout",
     "output_type": "stream",
     "text": [
      "Requirement already satisfied: requests in c:\\users\\15733\\anaconda3\\lib\\site-packages (2.32.3)\n",
      "Requirement already satisfied: beautifulsoup4 in c:\\users\\15733\\anaconda3\\lib\\site-packages (4.12.3)\n",
      "Requirement already satisfied: pandas in c:\\users\\15733\\anaconda3\\lib\\site-packages (2.2.2)\n",
      "Requirement already satisfied: charset-normalizer<4,>=2 in c:\\users\\15733\\anaconda3\\lib\\site-packages (from requests) (3.3.2)\n",
      "Requirement already satisfied: idna<4,>=2.5 in c:\\users\\15733\\anaconda3\\lib\\site-packages (from requests) (3.7)\n",
      "Requirement already satisfied: urllib3<3,>=1.21.1 in c:\\users\\15733\\anaconda3\\lib\\site-packages (from requests) (2.2.3)\n",
      "Requirement already satisfied: certifi>=2017.4.17 in c:\\users\\15733\\anaconda3\\lib\\site-packages (from requests) (2025.1.31)\n",
      "Requirement already satisfied: soupsieve>1.2 in c:\\users\\15733\\anaconda3\\lib\\site-packages (from beautifulsoup4) (2.5)\n",
      "Requirement already satisfied: numpy>=1.26.0 in c:\\users\\15733\\anaconda3\\lib\\site-packages (from pandas) (1.26.4)\n",
      "Requirement already satisfied: python-dateutil>=2.8.2 in c:\\users\\15733\\anaconda3\\lib\\site-packages (from pandas) (2.9.0.post0)\n",
      "Requirement already satisfied: pytz>=2020.1 in c:\\users\\15733\\anaconda3\\lib\\site-packages (from pandas) (2024.1)\n",
      "Requirement already satisfied: tzdata>=2022.7 in c:\\users\\15733\\anaconda3\\lib\\site-packages (from pandas) (2023.3)\n",
      "Requirement already satisfied: six>=1.5 in c:\\users\\15733\\anaconda3\\lib\\site-packages (from python-dateutil>=2.8.2->pandas) (1.16.0)\n"
     ]
    }
   ],
   "source": [
    "!pip install requests beautifulsoup4 pandas\n"
   ]
  },
  {
   "cell_type": "code",
   "execution_count": null,
   "id": "67389644-8461-47e2-8d62-52b21ab18a4a",
   "metadata": {},
   "outputs": [],
   "source": []
  },
  {
   "cell_type": "markdown",
   "id": "4b6b8be6-3d5d-47ea-ad76-134847417742",
   "metadata": {},
   "source": [
    "----------------------------------------------------------------------------------------------------------------------------------------------"
   ]
  },
  {
   "cell_type": "code",
   "execution_count": 8,
   "id": "c291f608-a1e5-47bf-85e9-703c2817808d",
   "metadata": {},
   "outputs": [
    {
     "ename": "NameError",
     "evalue": "name 'df' is not defined",
     "output_type": "error",
     "traceback": [
      "\u001b[1;31m---------------------------------------------------------------------------\u001b[0m",
      "\u001b[1;31mNameError\u001b[0m                                 Traceback (most recent call last)",
      "Cell \u001b[1;32mIn[8], line 2\u001b[0m\n\u001b[0;32m      1\u001b[0m \u001b[38;5;66;03m# Save your scraped dataset in the same folder as your notebook\u001b[39;00m\n\u001b[1;32m----> 2\u001b[0m df\u001b[38;5;241m.\u001b[39mto_csv(\u001b[38;5;124m\"\u001b[39m\u001b[38;5;124mai_headlines.csv\u001b[39m\u001b[38;5;124m\"\u001b[39m, index\u001b[38;5;241m=\u001b[39m\u001b[38;5;28;01mFalse\u001b[39;00m, encoding\u001b[38;5;241m=\u001b[39m\u001b[38;5;124m\"\u001b[39m\u001b[38;5;124mutf-8\u001b[39m\u001b[38;5;124m\"\u001b[39m)\n",
      "\u001b[1;31mNameError\u001b[0m: name 'df' is not defined"
     ]
    }
   ],
   "source": [
    "# Save your scraped dataset in the same folder as your notebook\n",
    "df.to_csv(\"ai_headlines.csv\", index=False, encoding=\"utf-8\")\n"
   ]
  },
  {
   "cell_type": "code",
   "execution_count": null,
   "id": "62f64e35-5aed-44f9-862f-41386c6bd384",
   "metadata": {},
   "outputs": [],
   "source": [
    "# Save your scraped dataset in the same folder as your notebook\n",
    "df.to_csv(\"ai_headlines.csv\", index=False, encoding=\"utf-8\")\n",
    "print(\"✅ Saved to ai_headlines.csv\")\n"
   ]
  },
  {
   "cell_type": "code",
   "execution_count": null,
   "id": "f3d4f120-4897-4715-a8b6-08aa138e1b21",
   "metadata": {},
   "outputs": [],
   "source": [
    "import pandas as pd\n",
    "from collections import Counter\n",
    "import matplotlib.pyplot as plt\n",
    "import seaborn as sns\n",
    "import re\n",
    "\n",
    "# Clean and split all words from headlines\n",
    "words = []\n",
    "for headline in df[\"headline\"]:\n",
    "    cleaned = re.sub(r'[^A-Za-z ]', '', headline).lower()\n",
    "    words.extend(cleaned.split())\n",
    "\n",
    "# Common English stopwords to ignore\n",
    "stopwords = set([\n",
    "    'the','and','for','with','that','this','from','into','about',\n",
    "    'will','have','are','was','its','has','after','they','you',\n",
    "    'your','their','when','what','how','who','can','why','new'\n",
    "])\n",
    "\n",
    "filtered = [w for w in words if w not in stopwords and len(w) > 2]\n",
    "common_words = Counter(filtered).most_common(15)\n",
    "\n",
    "# Convert to DataFrame\n",
    "word_df = pd.DataFrame(common_words, columns=['Word', 'Count'])\n",
    "\n",
    "# Plot\n",
    "plt.figure(figsize=(10,6))\n",
    "sns.barplot(x='Count', y='Word', data=word_df, palette='viridis')\n",
    "plt.title('Most Common Words in Tech Headlines', fontsize=14, weight='bold')\n",
    "plt.xlabel('Word Frequency')\n",
    "plt.ylabel('Word')\n",
    "plt.tight_layout()\n",
    "plt.show()\n"
   ]
  },
  {
   "cell_type": "markdown",
   "id": "ca23493f-1316-46cc-b349-9b62e51364b2",
   "metadata": {},
   "source": [
    "**Visualization 1**\n",
    "\n",
    "This bar chart displays the most frequently occurring words found across all BBC Technology headlines.\n",
    "Common terms such as “help,” “health,” “tech,” and “good” highlight the current focus on health-related innovations and positive framing in technology journalism.\n",
    "The visualization helps reveal which topics dominate today’s tech coverage."
   ]
  },
  {
   "cell_type": "markdown",
   "id": "bf1cf255-619b-4ed2-9b45-31d1d2c38706",
   "metadata": {},
   "source": [
    "----------------------------------------------------------------------------------------------------------------------------------------------"
   ]
  },
  {
   "cell_type": "code",
   "execution_count": null,
   "id": "7a70e46d-7fd2-43d0-b5ed-eba4fa8c0200",
   "metadata": {},
   "outputs": [],
   "source": [
    "!pip install wordcloud\n"
   ]
  },
  {
   "cell_type": "code",
   "execution_count": null,
   "id": "2a377574-20ae-4d11-86cc-8975162fde92",
   "metadata": {},
   "outputs": [],
   "source": [
    "from wordcloud import WordCloud\n",
    "\n",
    "# Combine all headlines into one big string\n",
    "text = \" \".join(df[\"headline\"].astype(str))\n",
    "\n",
    "# Generate word cloud\n",
    "wordcloud = WordCloud(width=1000, height=500, background_color='black', colormap='plasma').generate(text)\n",
    "\n",
    "# Display\n",
    "plt.figure(figsize=(12,6))\n",
    "plt.imshow(wordcloud, interpolation='bilinear')\n",
    "plt.axis('off')\n",
    "plt.title('Word Cloud of Technology Headlines', fontsize=16, weight='bold', pad=20)\n",
    "plt.show()\n"
   ]
  },
  {
   "cell_type": "markdown",
   "id": "a9aa752f-53e4-4301-9b10-eeab5aecd9ae",
   "metadata": {},
   "source": [
    "**Visualization 2**\n",
    "\n",
    "The word cloud visually emphasizes the most common words by size, making it easy to identify prominent ideas at a glance.\n",
    "Larger words like “tech,” “AI,” “health,” and “think” stand out — suggesting that artificial intelligence and wellbeing are trending themes in technology news.\n",
    "This complements the frequency chart by providing a more intuitive overview of text emphasis."
   ]
  },
  {
   "cell_type": "markdown",
   "id": "7bf36f5e-7d7f-419a-bd3b-83c73a5cf820",
   "metadata": {},
   "source": [
    "----------------------------------------------------------------------------------------------------------------------------------------------"
   ]
  },
  {
   "cell_type": "code",
   "execution_count": null,
   "id": "c7971c98-94e3-4c3f-9fc1-dff4fcc0cdc9",
   "metadata": {},
   "outputs": [],
   "source": [
    "import seaborn as sns\n",
    "import matplotlib.pyplot as plt\n",
    "\n",
    "# Count how many articles came from each source\n",
    "source_counts = df[\"source\"].value_counts().reset_index()\n",
    "source_counts.columns = [\"Source\", \"Article Count\"]\n",
    "\n",
    "# Plot bar chart\n",
    "plt.figure(figsize=(6,5))\n",
    "sns.barplot(x=\"Source\", y=\"Article Count\", data=source_counts, palette=\"coolwarm\")\n",
    "plt.title(\"Number of Articles Scraped by Source\", fontsize=14, weight='bold')\n",
    "plt.xlabel(\"News Source\")\n",
    "plt.ylabel(\"Number of Headlines\")\n",
    "plt.tight_layout()\n",
    "plt.show()\n"
   ]
  },
  {
   "cell_type": "markdown",
   "id": "6cb8128f-b90a-4ef9-873c-cec6eb135d06",
   "metadata": {},
   "source": [
    "**Visualization 3**\n",
    "\n",
    "This bar chart compares how many headlines were gathered from each news source.\n",
    "In this dataset, all 82 headlines came from BBC Technology, as no Reuters headlines were retrieved.\n",
    "This provides insight into data source availability and shows that BBC publishes a substantial daily volume of technology articles."
   ]
  },
  {
   "cell_type": "markdown",
   "id": "31ff44bd-9fd2-4cf5-99e0-6482a5767d2f",
   "metadata": {},
   "source": [
    "----------------------------------------------------------------------------------------------------------------------------------------------"
   ]
  },
  {
   "cell_type": "markdown",
   "id": "2c3e7190-9d5c-41a4-8be1-79020f97e65e",
   "metadata": {},
   "source": [
    "**Summary**\n",
    "\n",
    "Overall, this analysis shows that BBC Technology headlines frequently center around AI, health, and human impact, indicating a strong public interest in technology’s role in everyday life.\n",
    "The dataset illustrates how natural language processing techniques can quickly summarize media trends from live online data."
   ]
  },
  {
   "cell_type": "code",
   "execution_count": null,
   "id": "60567006-72d7-4045-bffd-a5214354f145",
   "metadata": {},
   "outputs": [],
   "source": []
  }
 ],
 "metadata": {
  "kernelspec": {
   "display_name": "Python [conda env:base] *",
   "language": "python",
   "name": "conda-base-py"
  },
  "language_info": {
   "codemirror_mode": {
    "name": "ipython",
    "version": 3
   },
   "file_extension": ".py",
   "mimetype": "text/x-python",
   "name": "python",
   "nbconvert_exporter": "python",
   "pygments_lexer": "ipython3",
   "version": "3.12.7"
  }
 },
 "nbformat": 4,
 "nbformat_minor": 5
}
